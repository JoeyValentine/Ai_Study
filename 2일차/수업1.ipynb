{
 "cells": [
  {
   "cell_type": "code",
   "execution_count": 7,
   "metadata": {},
   "outputs": [
    {
     "name": "stdout",
     "output_type": "stream",
     "text": [
      "15\n"
     ]
    },
    {
     "data": {
      "text/plain": [
       "'\\n숫자 표현 4가지 : int float complex bool \\na = 0b1 : 2진법 \\na = 0o6 : 8진법\\na = 0xF : 16진법\\n'"
      ]
     },
     "execution_count": 7,
     "metadata": {},
     "output_type": "execute_result"
    }
   ],
   "source": [
    "a = 0xF\n",
    "print(a)\n",
    "\n",
    "'''\n",
    "숫자 표현 4가지 : int float complex bool \n",
    "int 표현법 4가지 : 10, 2, 8, 16진법\n",
    "a = 0b1 : 2진법 \n",
    "a = 0o6 : 8진법\n",
    "a = 0xF : 16진법\n",
    "\n",
    "출력할때는 항상 10진법\n",
    "'''"
   ]
  },
  {
   "cell_type": "code",
   "execution_count": 12,
   "metadata": {},
   "outputs": [
    {
     "name": "stdout",
     "output_type": "stream",
     "text": [
      "0b1111\n"
     ]
    },
    {
     "data": {
      "text/plain": [
       "'\\n10진법을 2진법으로...\\nshift + tap + tap 자세하게 설명해주는 함수\\nesc누르면 꺼짐\\n'"
      ]
     },
     "execution_count": 12,
     "metadata": {},
     "output_type": "execute_result"
    }
   ],
   "source": [
    "print(bin(0xF))\n",
    "\n",
    "'''\n",
    "임의의 진법을 2진법으로...\n",
    "shift + tap + tap 자세하게 설명해주는 함수\n",
    "esc누르면 꺼짐\n",
    "'''"
   ]
  },
  {
   "cell_type": "code",
   "execution_count": 13,
   "metadata": {},
   "outputs": [
    {
     "name": "stdout",
     "output_type": "stream",
     "text": [
      "0xa\n"
     ]
    }
   ],
   "source": [
    "print(hex(10))\n",
    "\n",
    "'''\n",
    "임의의 진법을 16진법으로...\n",
    "shift + tap + tap 자세하게 설명해주는 함수\n",
    "esc누르면 꺼짐\n",
    "\n",
    "python은 정수에 관해서는 overflow가 없다 \n",
    "'''"
   ]
  },
  {
   "cell_type": "code",
   "execution_count": 15,
   "metadata": {},
   "outputs": [
    {
     "name": "stdout",
     "output_type": "stream",
     "text": [
      "sys.int_info(bits_per_digit=30, sizeof_digit=4)\n"
     ]
    }
   ],
   "source": [
    "import sys\n",
    "print(sys.int_info)\n",
    "\n",
    "'''\n",
    "내 system의 정수 시스템을 알고싶을 때 사용하는 함수\n",
    "'''"
   ]
  },
  {
   "cell_type": "code",
   "execution_count": 31,
   "metadata": {},
   "outputs": [
    {
     "name": "stdout",
     "output_type": "stream",
     "text": [
      "-2\n"
     ]
    },
    {
     "data": {
      "text/plain": [
       "'\\n10 // -3 == -4\\n정수 + 0<= 소수부 < 1 로 정의되어서\\n\\n10 / -3 == -3.33333335\\n\\n'"
      ]
     },
     "execution_count": 31,
     "metadata": {},
     "output_type": "execute_result"
    }
   ],
   "source": [
    "print(10 % -3)\n",
    "\n",
    "'''\n",
    "10 // -3 == -4\n",
    "정수 + 0<= 소수부 < 1 로 정의되어서\n",
    "그럼 C는 ???\n",
    "10 / -3 == -3.33333335\n",
    "\n",
    "'''"
   ]
  },
  {
   "cell_type": "code",
   "execution_count": 32,
   "metadata": {},
   "outputs": [
    {
     "data": {
      "text/plain": [
       "sys.float_info(max=1.7976931348623157e+308, max_exp=1024, max_10_exp=308, min=2.2250738585072014e-308, min_exp=-1021, min_10_exp=-307, dig=15, mant_dig=53, epsilon=2.220446049250313e-16, radix=2, rounds=1)"
      ]
     },
     "execution_count": 32,
     "metadata": {},
     "output_type": "execute_result"
    }
   ],
   "source": [
    "sys.float_info"
   ]
  },
  {
   "cell_type": "code",
   "execution_count": 49,
   "metadata": {},
   "outputs": [
    {
     "name": "stdout",
     "output_type": "stream",
     "text": [
      "2000.0 <class 'float'>\n"
     ]
    },
    {
     "data": {
      "text/plain": [
       "'\\n. 이나 e를 literal이라고 함\\n== 소수로 예측할 수 있다.\\n'"
      ]
     },
     "execution_count": 49,
     "metadata": {},
     "output_type": "execute_result"
    }
   ],
   "source": [
    "x = 2e3\n",
    "print(x, type(x))\n",
    "\n",
    "'''\n",
    ". 이나 e를 literal이라고 함\n",
    "== 소수로 예측할 수 있다.\n",
    "'''"
   ]
  },
  {
   "cell_type": "code",
   "execution_count": 36,
   "metadata": {},
   "outputs": [
    {
     "data": {
      "text/plain": [
       "2.0"
      ]
     },
     "execution_count": 36,
     "metadata": {},
     "output_type": "execute_result"
    }
   ],
   "source": [
    "1 + 1."
   ]
  },
  {
   "cell_type": "code",
   "execution_count": 37,
   "metadata": {},
   "outputs": [
    {
     "data": {
      "text/plain": [
       "12.99603834169977"
      ]
     },
     "execution_count": 37,
     "metadata": {},
     "output_type": "execute_result"
    }
   ],
   "source": [
    "2.**3.7"
   ]
  },
  {
   "cell_type": "code",
   "execution_count": 48,
   "metadata": {},
   "outputs": [
    {
     "name": "stdout",
     "output_type": "stream",
     "text": [
      "True\n",
      "1\n",
      "True\n"
     ]
    },
    {
     "data": {
      "text/plain": [
       "'\\n부등호가 앞에 와야한다.\\n\\nTrue는 값이 1이다 : Python\\n'"
      ]
     },
     "execution_count": 48,
     "metadata": {},
     "output_type": "execute_result"
    }
   ],
   "source": [
    "print(True < 1.3)\n",
    "print(int(True))\n",
    "a = True < 1.3\n",
    "print(a)\n",
    "\n",
    "'''\n",
    "부등호가 앞에 와야한다.\n",
    "\n",
    "True는 값이 1이다 : Python\n",
    "'''"
   ]
  },
  {
   "cell_type": "code",
   "execution_count": 56,
   "metadata": {},
   "outputs": [
    {
     "name": "stdout",
     "output_type": "stream",
     "text": [
      "True\n",
      "nan\n",
      "<class 'float'>\n"
     ]
    },
    {
     "data": {
      "text/plain": [
       "'\\n와우! 이건 놀라워\\n\\n무한대 - 무한대 == 부정형\\n'"
      ]
     },
     "execution_count": 56,
     "metadata": {},
     "output_type": "execute_result"
    }
   ],
   "source": [
    "x = float('inf')\n",
    "\n",
    "print(x == x + 1)\n",
    "print(x - x)\n",
    "print(type(x - x))\n",
    "\n",
    "'''\n",
    "와우! 이건 놀라워\n",
    "\n",
    "무한대 - 무한대 == 부정형\n",
    "'''"
   ]
  },
  {
   "cell_type": "code",
   "execution_count": 59,
   "metadata": {},
   "outputs": [
    {
     "name": "stdout",
     "output_type": "stream",
     "text": [
      "True\n",
      "True\n"
     ]
    },
    {
     "data": {
      "text/plain": [
       "'\\n1을 더해도 shift 과정에서 무시당함\\n'"
      ]
     },
     "execution_count": 59,
     "metadata": {},
     "output_type": "execute_result"
    }
   ],
   "source": [
    "x = 1.7976931348623157e+308\n",
    "print(x == x + 1)\n",
    "print(x == x - 1)\n",
    "\n",
    "'''\n",
    "1을 더해도/빼도 shift 과정에서 무시당함\n",
    "'''"
   ]
  },
  {
   "cell_type": "code",
   "execution_count": 60,
   "metadata": {},
   "outputs": [
    {
     "data": {
      "text/plain": [
       "False"
      ]
     },
     "execution_count": 60,
     "metadata": {},
     "output_type": "execute_result"
    }
   ],
   "source": [
    "0.1 + 0.1 + 0.1 == 0.3\n",
    "\n",
    "'''\n",
    "값 비교할 때 조심하자... ㄷㄷ\n",
    "'''"
   ]
  },
  {
   "cell_type": "code",
   "execution_count": null,
   "metadata": {},
   "outputs": [],
   "source": [
    "\n",
    "'''\n",
    "소수 계산 정확하게 해주는 lib == fraction division이라는 library가 있음\n",
    "대신 속도가 느림\n",
    "'''"
   ]
  },
  {
   "cell_type": "code",
   "execution_count": 68,
   "metadata": {},
   "outputs": [
    {
     "name": "stdout",
     "output_type": "stream",
     "text": [
      "하하하하하하하하하\n"
     ]
    },
    {
     "data": {
      "text/plain": [
       "'\\n문자열끼리는 덧셈 가능\\n문자열 곱하기 정수는 가능\\n'"
      ]
     },
     "execution_count": 68,
     "metadata": {},
     "output_type": "execute_result"
    }
   ],
   "source": [
    "print('하하하' * 3)\n",
    "\n",
    "'''\n",
    "문자열끼리는 덧셈 가능\n",
    "문자열 곱하기 정수는 가능\n",
    "data type에 따라서 지원하는 연산의 종류가 다르다\n",
    "\n",
    "Container는 data원소의 개념\n",
    "\n",
    "'''"
   ]
  },
  {
   "cell_type": "code",
   "execution_count": 84,
   "metadata": {},
   "outputs": [
    {
     "name": "stdout",
     "output_type": "stream",
     "text": [
      "5 4\n"
     ]
    },
    {
     "data": {
      "text/plain": [
       "'\\ncontainer에서\\n순서가 중요할 때 sequence : index, slice 지원\\n\\n'"
      ]
     },
     "execution_count": 84,
     "metadata": {},
     "output_type": "execute_result"
    }
   ],
   "source": [
    "v = '히오스짱굿'\n",
    "c = 'wHat'\n",
    "print(len(v), len(c))\n",
    "\n",
    "'''\n",
    "container에서\n",
    "순서가 중요할 때 sequence : index, slice 지원\n",
    "\n",
    "'''"
   ]
  },
  {
   "cell_type": "code",
   "execution_count": 77,
   "metadata": {},
   "outputs": [
    {
     "data": {
      "text/plain": [
       "'히'"
      ]
     },
     "execution_count": 77,
     "metadata": {},
     "output_type": "execute_result"
    }
   ],
   "source": [
    "v[-3]\n",
    "\n",
    "'''\n",
    "뒤에서부터 -1 -2 -3\n",
    "아주 길 때 뒤에서부터 기준으로 세면 빠르니까 음수 index지원\n",
    "'''"
   ]
  },
  {
   "cell_type": "code",
   "execution_count": 89,
   "metadata": {},
   "outputs": [
    {
     "name": "stdout",
     "output_type": "stream",
     "text": [
      "히오스\n",
      "굿짱스오히\n"
     ]
    },
    {
     "data": {
      "text/plain": [
       "'\\n처음이 없으면 처음부터\\n끝이 없으면 끝까지\\n이상 미만 개념이다.\\n::\\n'"
      ]
     },
     "execution_count": 89,
     "metadata": {},
     "output_type": "execute_result"
    }
   ],
   "source": [
    "print(v[-5:-2])\n",
    "print(v[::-1])\n",
    "\n",
    "'''\n",
    "처음이 없으면 처음부터\n",
    "끝이 없으면 끝까지\n",
    "이상 미만 개념이다.\n",
    ":: step을 음수로 하면 거꾸로\n",
    "::-1 처음부터 끝까지 거꾸로\n",
    "slicing은 부분적으로 가지고 올 때 사용함\n",
    "'''"
   ]
  },
  {
   "cell_type": "code",
   "execution_count": 90,
   "metadata": {},
   "outputs": [
    {
     "data": {
      "text/plain": [
       "'히오스짱굿'"
      ]
     },
     "execution_count": 90,
     "metadata": {},
     "output_type": "execute_result"
    }
   ],
   "source": [
    "v[:70]\n",
    "\n",
    "'''\n",
    "slicing은 index error가 안난다. 주의할 것!!!!\n",
    "'''"
   ]
  },
  {
   "cell_type": "code",
   "execution_count": 98,
   "metadata": {},
   "outputs": [
    {
     "name": "stdout",
     "output_type": "stream",
     "text": [
      "3\n",
      "[1, '2', 3]\n",
      "['__add__', '__class__', '__contains__', '__delattr__', '__delitem__', '__dir__', '__doc__', '__eq__', '__format__', '__ge__', '__getattribute__', '__getitem__', '__gt__', '__hash__', '__iadd__', '__imul__', '__init__', '__init_subclass__', '__iter__', '__le__', '__len__', '__lt__', '__mul__', '__ne__', '__new__', '__reduce__', '__reduce_ex__', '__repr__', '__reversed__', '__rmul__', '__setattr__', '__setitem__', '__sizeof__', '__str__', '__subclasshook__', 'append', 'clear', 'copy', 'count', 'extend', 'index', 'insert', 'pop', 'remove', 'reverse', 'sort']\n"
     ]
    }
   ],
   "source": [
    "a = [1, 2, 3]\n",
    "print(len(a))\n",
    "b = [1, '2', 3]\n",
    "print(b)\n",
    "\n",
    "'''\n",
    "문자열 3종류 : str, bytes, array??\n",
    "[1,3,4] : list를 나타내는 literal\n",
    "\n",
    "container : 2종류 homo/hetero genous\n",
    "\n",
    "string 계열은 같은 종류의 data만 담을 수 있음 : homogenous\n",
    "list는 hetero-genous & sequence : index slice 매우 가능\n",
    "'''\n",
    "\n",
    "print(dir(a)) # 이게 무슨 함수더라 까먹었넴 ㅋㅋㅋㅋㅋㅋ"
   ]
  },
  {
   "cell_type": "code",
   "execution_count": 103,
   "metadata": {
    "scrolled": true
   },
   "outputs": [
    {
     "name": "stdout",
     "output_type": "stream",
     "text": [
      "[1, 2, 3, 1, 1, 1, 1, 1]\n"
     ]
    },
    {
     "data": {
      "text/plain": [
       "1"
      ]
     },
     "execution_count": 103,
     "metadata": {},
     "output_type": "execute_result"
    }
   ],
   "source": [
    "a.append(1)\n",
    "print(a)\n",
    "a.index(2)"
   ]
  },
  {
   "cell_type": "code",
   "execution_count": 106,
   "metadata": {},
   "outputs": [
    {
     "data": {
      "text/plain": [
       "6"
      ]
     },
     "execution_count": 106,
     "metadata": {},
     "output_type": "execute_result"
    }
   ],
   "source": [
    "a.count(1)"
   ]
  },
  {
   "cell_type": "code",
   "execution_count": 110,
   "metadata": {
    "scrolled": true
   },
   "outputs": [
    {
     "name": "stdout",
     "output_type": "stream",
     "text": [
      "3\n"
     ]
    },
    {
     "data": {
      "text/plain": [
       "'\\ncontainer면 len을 쓸 수 있다.\\n'"
      ]
     },
     "execution_count": 110,
     "metadata": {},
     "output_type": "execute_result"
    }
   ],
   "source": [
    "b = (1, '2', [3,8])\n",
    "type(b)\n",
    "print(dir(b)) # 이 데이터에서 쓸 수 있는 method\n",
    "print(len(b))\n",
    "\n",
    "'''\n",
    "container면 len을 쓸 수 있다.\n",
    "sequence종류 : 문자열 3총사 + list + tuple\n",
    "list : tuple은 수정 못하는데 list는 수정 가능하다.\n",
    "tuple : list보다 빠르다.\n",
    "'''"
   ]
  },
  {
   "cell_type": "code",
   "execution_count": 114,
   "metadata": {},
   "outputs": [
    {
     "name": "stdout",
     "output_type": "stream",
     "text": [
      "3\n",
      "['__and__', '__class__', '__contains__', '__delattr__', '__dir__', '__doc__', '__eq__', '__format__', '__ge__', '__getattribute__', '__gt__', '__hash__', '__iand__', '__init__', '__init_subclass__', '__ior__', '__isub__', '__iter__', '__ixor__', '__le__', '__len__', '__lt__', '__ne__', '__new__', '__or__', '__rand__', '__reduce__', '__reduce_ex__', '__repr__', '__ror__', '__rsub__', '__rxor__', '__setattr__', '__sizeof__', '__str__', '__sub__', '__subclasshook__', '__xor__', 'add', 'clear', 'copy', 'difference', 'difference_update', 'discard', 'intersection', 'intersection_update', 'isdisjoint', 'issubset', 'issuperset', 'pop', 'remove', 'symmetric_difference', 'symmetric_difference_update', 'union', 'update']\n"
     ]
    },
    {
     "data": {
      "text/plain": [
       "'\\nset 특징 :\\n중복이 없고 순서 없고\\nindex slice 못해! sequence가 아님\\nhetero container\\n'"
      ]
     },
     "execution_count": 114,
     "metadata": {},
     "output_type": "execute_result"
    }
   ],
   "source": [
    "c = {1,'2',3}\n",
    "print(len(c))\n",
    "\n",
    "print(dir(c))\n",
    "\n",
    "'''\n",
    "set 특징 :\n",
    "중복이 없고 순서 없고\n",
    "index slice 못해! sequence가 아님\n",
    "hetero container\n",
    "dir로 검색해서 변동하는 method가 있으면 mutable임\n",
    "'''"
   ]
  },
  {
   "cell_type": "code",
   "execution_count": 117,
   "metadata": {},
   "outputs": [
    {
     "name": "stdout",
     "output_type": "stream",
     "text": [
      "1\n",
      "['__class__', '__contains__', '__delattr__', '__delitem__', '__dir__', '__doc__', '__eq__', '__format__', '__ge__', '__getattribute__', '__getitem__', '__gt__', '__hash__', '__init__', '__init_subclass__', '__iter__', '__le__', '__len__', '__lt__', '__ne__', '__new__', '__reduce__', '__reduce_ex__', '__repr__', '__setattr__', '__setitem__', '__sizeof__', '__str__', '__subclasshook__', 'clear', 'copy', 'fromkeys', 'get', 'items', 'keys', 'pop', 'popitem', 'setdefault', 'update', 'values']\n"
     ]
    },
    {
     "data": {
      "text/plain": [
       "'\\nkey value쌍으로 \\nhetero!\\n순서가 없음 \\n'"
      ]
     },
     "execution_count": 117,
     "metadata": {},
     "output_type": "execute_result"
    }
   ],
   "source": [
    "d = {'a' : 1, 'b' : '2'}\n",
    "print(d['a'])\n",
    "print(dir(d))\n",
    "\n",
    "'''\n",
    "key value쌍으로 \n",
    "hetero!\n",
    "순서가 없음 \n",
    "'''"
   ]
  },
  {
   "cell_type": "code",
   "execution_count": null,
   "metadata": {},
   "outputs": [],
   "source": [
    "frozenset\n",
    "\n",
    "'''\n",
    "immutable한 set\n",
    "실수로 수정해서 고칠까봐 immutable 쓰나보다\n",
    "'''"
   ]
  }
 ],
 "metadata": {
  "kernelspec": {
   "display_name": "Python 3",
   "language": "python",
   "name": "python3"
  },
  "language_info": {
   "codemirror_mode": {
    "name": "ipython",
    "version": 3
   },
   "file_extension": ".py",
   "mimetype": "text/x-python",
   "name": "python",
   "nbconvert_exporter": "python",
   "pygments_lexer": "ipython3",
   "version": "3.7.1"
  }
 },
 "nbformat": 4,
 "nbformat_minor": 2
}
