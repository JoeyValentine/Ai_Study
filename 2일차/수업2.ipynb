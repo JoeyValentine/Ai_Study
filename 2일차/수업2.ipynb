{
 "cells": [
  {
   "cell_type": "code",
   "execution_count": 1,
   "metadata": {},
   "outputs": [],
   "source": [
    "a = 1"
   ]
  },
  {
   "cell_type": "code",
   "execution_count": 3,
   "metadata": {},
   "outputs": [
    {
     "name": "stdout",
     "output_type": "stream",
     "text": [
      "Variable   Type    Data/Info\n",
      "----------------------------\n",
      "a          int     1\n"
     ]
    }
   ],
   "source": [
    "%whos"
   ]
  },
  {
   "cell_type": "code",
   "execution_count": 4,
   "metadata": {},
   "outputs": [
    {
     "ename": "NameError",
     "evalue": "name 'b' is not defined",
     "output_type": "error",
     "traceback": [
      "\u001b[1;31m---------------------------------------------------------------------------\u001b[0m",
      "\u001b[1;31mNameError\u001b[0m                                 Traceback (most recent call last)",
      "\u001b[1;32m<ipython-input-4-89e6c98d9288>\u001b[0m in \u001b[0;36m<module>\u001b[1;34m\u001b[0m\n\u001b[1;32m----> 1\u001b[1;33m \u001b[0mb\u001b[0m\u001b[1;33m\u001b[0m\u001b[1;33m\u001b[0m\u001b[0m\n\u001b[0m",
      "\u001b[1;31mNameError\u001b[0m: name 'b' is not defined"
     ]
    }
   ],
   "source": [
    "b"
   ]
  },
  {
   "cell_type": "code",
   "execution_count": 6,
   "metadata": {},
   "outputs": [
    {
     "data": {
      "text/plain": [
       "'0x7fffbaddb350'"
      ]
     },
     "execution_count": 6,
     "metadata": {},
     "output_type": "execute_result"
    }
   ],
   "source": [
    "hex(id(a))\n",
    "\n",
    "'''\n",
    "id : 1값이 저장된 메모리주소를 반환\n",
    "\n",
    "식별자 && data 따로 저장한다.\n",
    "\n",
    "'''"
   ]
  },
  {
   "cell_type": "code",
   "execution_count": 7,
   "metadata": {},
   "outputs": [],
   "source": [
    "a = 2\n",
    "\n",
    "'''\n",
    "새로운 값을 할당할 때마다 새로운 곳에 할당된다.\n",
    "'''"
   ]
  },
  {
   "cell_type": "code",
   "execution_count": 8,
   "metadata": {},
   "outputs": [
    {
     "data": {
      "text/plain": [
       "'0x7fffbaddb370'"
      ]
     },
     "execution_count": 8,
     "metadata": {},
     "output_type": "execute_result"
    }
   ],
   "source": [
    "hex(id(a))\n",
    "\n",
    "'''\n",
    "주소가 바뀌었구만...!\n",
    "원래 공간 말고 다른 공간에 2를 저장한다.\n",
    "식별자에서 data를 대응시킴\n",
    "'''"
   ]
  },
  {
   "cell_type": "code",
   "execution_count": null,
   "metadata": {},
   "outputs": [],
   "source": [
    "'''\n",
    "garbage collection 어떻게해 ???????\n",
    "'''"
   ]
  },
  {
   "cell_type": "code",
   "execution_count": 9,
   "metadata": {},
   "outputs": [
    {
     "data": {
      "text/plain": [
       "'0x7fffbaddb370'"
      ]
     },
     "execution_count": 9,
     "metadata": {},
     "output_type": "execute_result"
    }
   ],
   "source": [
    "hex(id(a))"
   ]
  },
  {
   "cell_type": "code",
   "execution_count": 20,
   "metadata": {},
   "outputs": [
    {
     "name": "stdout",
     "output_type": "stream",
     "text": [
      "0x19498517648\n"
     ]
    }
   ],
   "source": [
    "b = [1, 2]\n",
    "print(hex(id(b)))"
   ]
  },
  {
   "cell_type": "code",
   "execution_count": 21,
   "metadata": {},
   "outputs": [
    {
     "name": "stdout",
     "output_type": "stream",
     "text": [
      "0x19498517648\n"
     ]
    },
    {
     "data": {
      "text/plain": [
       "'\\nmutable은 data가 변해도 메모리 값이 안변함\\n뒤에 새로 붙\\\\임\\n'"
      ]
     },
     "execution_count": 21,
     "metadata": {},
     "output_type": "execute_result"
    }
   ],
   "source": [
    "b.append(3)\n",
    "print(hex(id(b)))\n",
    "\n",
    "'''\n",
    "mutable은 data가 변해도 메모리 값이 안변함\n",
    "뒤에 새로 붙임\n",
    "'''"
   ]
  },
  {
   "cell_type": "code",
   "execution_count": 22,
   "metadata": {},
   "outputs": [
    {
     "name": "stdout",
     "output_type": "stream",
     "text": [
      "0x7fffbad64ce0\n"
     ]
    },
    {
     "data": {
      "text/plain": [
       "'\\n재할당 하면무조건 새로운 메모리 공간에 할당. 주소값이 바뀐다.\\n값을 바꿀 수 있지만 재할당할 필요가 없다.\\n메모리를 아껴쓰기 위해서....\\n\\n오른쪽의 b와 왼쪽b는 다르다.\\n새로운b는 주소가 바뀐다.\\n'"
      ]
     },
     "execution_count": 22,
     "metadata": {},
     "output_type": "execute_result"
    }
   ],
   "source": [
    "b = b.append(4)\n",
    "print(hex(id(b)))\n",
    "\n",
    "'''\n",
    "재할당 하면무조건 새로운 메모리 공간에 할당. 주소값이 바뀐다.\n",
    "값을 바꿀 수 있지만 재할당할 필요가 없다.\n",
    "메모리를 아껴쓰기 위해서....\n",
    "\n",
    "오른쪽의 b와 왼쪽b는 다르다.\n",
    "새로운b는 주소가 바뀐다.\n",
    "'''"
   ]
  }
 ],
 "metadata": {
  "kernelspec": {
   "display_name": "Python 3",
   "language": "python",
   "name": "python3"
  },
  "language_info": {
   "codemirror_mode": {
    "name": "ipython",
    "version": 3
   },
   "file_extension": ".py",
   "mimetype": "text/x-python",
   "name": "python",
   "nbconvert_exporter": "python",
   "pygments_lexer": "ipython3",
   "version": "3.7.1"
  }
 },
 "nbformat": 4,
 "nbformat_minor": 2
}
