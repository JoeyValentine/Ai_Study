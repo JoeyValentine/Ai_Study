{
 "cells": [
  {
   "cell_type": "code",
   "execution_count": null,
   "metadata": {},
   "outputs": [],
   "source": [
    "for i in [1, 2, 3]:\n",
    "    print(i)\n",
    "\n",
    "# in : for와 어울릴 땐, in이 membership operator가 아님\n",
    "# for문에 iterable한 객체가 와야한다.\n",
    "# 대부분의 container는 iterable!"
   ]
  },
  {
   "cell_type": "code",
   "execution_count": null,
   "metadata": {},
   "outputs": [],
   "source": [
    "for i in '문근영':\n",
    "    print(i)"
   ]
  },
  {
   "cell_type": "code",
   "execution_count": null,
   "metadata": {},
   "outputs": [],
   "source": [
    "for i in {5, 3, 4}:\n",
    "    print(i)\n",
    "# 집합은 sequence가 아니지만(순서가 없음), 객체를 하니씩 반환할 수 있으므로 iterable이라고 한다."
   ]
  },
  {
   "cell_type": "code",
   "execution_count": null,
   "metadata": {},
   "outputs": [],
   "source": [
    "print(i)\n",
    "# python에서는 반복문에서 선언한 i를 없애지 않고 global하게 둔다.\n",
    "# i == 5\n",
    "# 왜 i는 local한 것이 아니지????????????? c와 다르다....???????????????????????????????????"
   ]
  },
  {
   "cell_type": "code",
   "execution_count": null,
   "metadata": {},
   "outputs": [],
   "source": [
    "for i in range(10):\n",
    "    print(i)"
   ]
  },
  {
   "cell_type": "code",
   "execution_count": null,
   "metadata": {},
   "outputs": [],
   "source": [
    "for i in range(1, 10):\n",
    "    if i % 2 == 0:\n",
    "        print(2, '*', i, '=', 2 * i)"
   ]
  },
  {
   "cell_type": "code",
   "execution_count": null,
   "metadata": {},
   "outputs": [],
   "source": [
    "for i in range(2, 10):\n",
    "    print(2, '*', i, '=', 2 * i)\n",
    "else:\n",
    "    print('a')\n",
    "# for가 완전히 진행되면, else를 수행\n",
    "# loop 도중에 error가 나는지 확인하기 좋구만...!"
   ]
  },
  {
   "cell_type": "code",
   "execution_count": null,
   "metadata": {},
   "outputs": [],
   "source": [
    "for i in {'a':1, 'b':2, 'c':3}:\n",
    "    print(type(i))\n",
    "# in은 원소가 있는지 확인할 때 key를 사용\n",
    "# key로 iterate하는게 훨씬 빠름"
   ]
  },
  {
   "cell_type": "code",
   "execution_count": null,
   "metadata": {},
   "outputs": [],
   "source": [
    "for i in {'a':1, 'b':2, 'c':3}.values():\n",
    "    print(i)\n",
    "# in에서는 key만 찍힘"
   ]
  },
  {
   "cell_type": "code",
   "execution_count": null,
   "metadata": {},
   "outputs": [],
   "source": [
    "for i in {'a':1, 'b':2, 'c':3}.items():\n",
    "    print(i)\n",
    "# items : key value 쌍으로 나옴"
   ]
  },
  {
   "cell_type": "code",
   "execution_count": null,
   "metadata": {},
   "outputs": [],
   "source": [
    "# cs에서 view의 개념?????\n",
    "# dictionary view???????"
   ]
  },
  {
   "cell_type": "code",
   "execution_count": null,
   "metadata": {},
   "outputs": [],
   "source": [
    "for i, j in {'a':1, 'b':2, 'c':3}.items(): \n",
    "    print(i, j)\n",
    "# unpacking!!!"
   ]
  },
  {
   "cell_type": "code",
   "execution_count": null,
   "metadata": {},
   "outputs": [],
   "source": [
    "for i in {'a':1, 'b':2, 'c':3}.items(): \n",
    "    print(i)\n",
    "# unpacking!!!"
   ]
  },
  {
   "cell_type": "code",
   "execution_count": null,
   "metadata": {},
   "outputs": [],
   "source": [
    "# accumulation pattern\n",
    "temp = 0\n",
    "for i in range(1, 11):\n",
    "    temp += 1\n",
    "else:\n",
    "    print(temp)"
   ]
  },
  {
   "cell_type": "code",
   "execution_count": null,
   "metadata": {},
   "outputs": [],
   "source": [
    "a = 0\n",
    "while a < 10:\n",
    "    print(1)\n",
    "# i를 두번 누르면, cell이 멈춘다. keyboard interrupt!!!!"
   ]
  },
  {
   "cell_type": "code",
   "execution_count": null,
   "metadata": {},
   "outputs": [],
   "source": [
    "a = 0\n",
    "while a < 10:\n",
    "    print(a)\n",
    "    a += 1\n",
    "else:\n",
    "    print('ansnsnsnsnsnsn')\n",
    "# esc누르고, i를 두번 누르면, cell이 멈춘다. keyboard interrupt!!!!\n",
    "# while은 탈출 조건을 어디에 넣을지가 중요하다.\n",
    "# while의 조건문이 거짓이 되면, else를 수행한다.\n",
    "# 도중에 중단이 되면 else를 수행하지 않는다."
   ]
  },
  {
   "cell_type": "code",
   "execution_count": null,
   "metadata": {},
   "outputs": [],
   "source": [
    "a = 0\n",
    "while a < 10:\n",
    "    print(a)\n",
    "    if a == 5:\n",
    "        break\n",
    "    a += 1\n",
    "else:\n",
    "    print('ansnsnsnsnsnsn') "
   ]
  },
  {
   "cell_type": "code",
   "execution_count": null,
   "metadata": {},
   "outputs": [],
   "source": [
    "a = 0\n",
    "while a < 10:\n",
    "    print(a)\n",
    "    if a == 5:\n",
    "        continue\n",
    "    a += 1\n",
    "else:\n",
    "    print('ansnsnsnsnsnsn') \n",
    "# 5일 때, continue로 조건문으로 바로 돌아감\n",
    "# continue아래를 수행 안함 ㅅㄱ"
   ]
  },
  {
   "cell_type": "code",
   "execution_count": null,
   "metadata": {},
   "outputs": [],
   "source": [
    "a = 0\n",
    "while a > 10:\n",
    "    print(a)\n",
    "    a += 1\n",
    "    if a == 5:\n",
    "        continue\n",
    "else:\n",
    "    print('ansnsnsnsnsnsn') \n",
    "# else가 수행된다. \n",
    "# 아예 수행이 안되어도 else가 수행된다. 진짜 신기하다.\n",
    "# 아예 안하는거도 완벽하게 수행하는 것이다."
   ]
  },
  {
   "cell_type": "code",
   "execution_count": null,
   "metadata": {},
   "outputs": [],
   "source": [
    "j = -1\n",
    "for i in [1, 2, 3, 4]:\n",
    "    j += 1\n",
    "    if i == 3:\n",
    "        print(j)\n",
    "# while은 for로 못바꿈 : while은 무한 루프 가능, for는 힘들지\n",
    "# 모든 for는 while로 바꿀 수 있다.\n",
    "# for 와 while은 유의미한 속도차이가 없다."
   ]
  },
  {
   "cell_type": "code",
   "execution_count": null,
   "metadata": {},
   "outputs": [],
   "source": []
  },
  {
   "cell_type": "code",
   "execution_count": null,
   "metadata": {},
   "outputs": [],
   "source": [
    "%%timeit\n",
    "temp = 0\n",
    "for i in range(1, 101):\n",
    "    temp += i\n",
    "else:\n",
    "    print(temp)\n",
    "# %%time 하면 속도 측정 가능\n",
    "# ##timeit 반복해서 시간 측정해줌"
   ]
  },
  {
   "cell_type": "code",
   "execution_count": null,
   "metadata": {},
   "outputs": [],
   "source": []
  },
  {
   "cell_type": "code",
   "execution_count": null,
   "metadata": {
    "scrolled": false
   },
   "outputs": [],
   "source": [
    "%%timeit\n",
    "a = 0\n",
    "temp = 0\n",
    "while a < 100 :\n",
    "    a += 1\n",
    "    temp += a\n",
    "else:\n",
    "    print(temp)"
   ]
  },
  {
   "cell_type": "code",
   "execution_count": 1,
   "metadata": {},
   "outputs": [
    {
     "name": "stdout",
     "output_type": "stream",
     "text": [
      "ㅇㅇㅇㅇ\n",
      "ㅇㅇㅇㅇ\n"
     ]
    }
   ],
   "source": [
    "a = input()\n",
    "print(a)\n",
    "# 왼쪽에 In [*] : 무한 루프, 대기 상태임을 말함\n",
    "# 무시하고 지나가면 아래 수행 안됨 ㅇㅇㅇ"
   ]
  },
  {
   "cell_type": "code",
   "execution_count": 2,
   "metadata": {},
   "outputs": [
    {
     "name": "stdout",
     "output_type": "stream",
     "text": [
      "세상에서 가장 예쁜 사람미ㅏ누\n",
      "세상에서 가장 예쁜 사람아이린\n"
     ]
    }
   ],
   "source": [
    "while True:\n",
    "    a = input('세상에서 가장 예쁜 사람')\n",
    "    if a == '아이린':\n",
    "        break"
   ]
  },
  {
   "cell_type": "code",
   "execution_count": 4,
   "metadata": {},
   "outputs": [
    {
     "name": "stdout",
     "output_type": "stream",
     "text": [
      "123456\n",
      "123456 * 1 = 123456\n",
      "123456 * 2 = 246912\n",
      "123456 * 3 = 370368\n",
      "123456 * 4 = 493824\n",
      "123456 * 5 = 617280\n",
      "123456 * 6 = 740736\n",
      "123456 * 7 = 864192\n",
      "123456 * 8 = 987648\n",
      "123456 * 9 = 1111104\n"
     ]
    }
   ],
   "source": [
    "x = int(input())\n",
    "for i in range(1, 10):\n",
    "    print(x, '*', i, '=', x*i)\n",
    "# 사용자의 입력에 따라서 구구단을 출력해줌 ㅇㅇㅇ"
   ]
  },
  {
   "cell_type": "code",
   "execution_count": 5,
   "metadata": {},
   "outputs": [
    {
     "name": "stdout",
     "output_type": "stream",
     "text": [
      "The Zen of Python, by Tim Peters\n",
      "\n",
      "Beautiful is better than ugly.\n",
      "Explicit is better than implicit.\n",
      "Simple is better than complex.\n",
      "Complex is better than complicated.\n",
      "Flat is better than nested.\n",
      "Sparse is better than dense.\n",
      "Readability counts.\n",
      "Special cases aren't special enough to break the rules.\n",
      "Although practicality beats purity.\n",
      "Errors should never pass silently.\n",
      "Unless explicitly silenced.\n",
      "In the face of ambiguity, refuse the temptation to guess.\n",
      "There should be one-- and preferably only one --obvious way to do it.\n",
      "Although that way may not be obvious at first unless you're Dutch.\n",
      "Now is better than never.\n",
      "Although never is often better than *right* now.\n",
      "If the implementation is hard to explain, it's a bad idea.\n",
      "If the implementation is easy to explain, it may be a good idea.\n",
      "Namespaces are one honking great idea -- let's do more of those!\n"
     ]
    }
   ],
   "source": [
    "import this\n",
    "# python 철학!!!!!!!!!!!!"
   ]
  },
  {
   "cell_type": "code",
   "execution_count": 9,
   "metadata": {},
   "outputs": [
    {
     "ename": "SyntaxError",
     "evalue": "starred assignment target must be in a list or tuple (cell_name, line 4)",
     "output_type": "error",
     "traceback": [
      "\u001b[1;36m  File \u001b[1;32m\"cell_name\"\u001b[1;36m, line \u001b[1;32m4\u001b[0m\n\u001b[1;31mSyntaxError\u001b[0m\u001b[1;31m:\u001b[0m starred assignment target must be in a list or tuple\n"
     ]
    }
   ],
   "source": [
    "*a = '아이린'"
   ]
  },
  {
   "cell_type": "code",
   "execution_count": 10,
   "metadata": {},
   "outputs": [],
   "source": [
    "*a, = '아이린'"
   ]
  },
  {
   "cell_type": "code",
   "execution_count": 11,
   "metadata": {},
   "outputs": [
    {
     "name": "stdout",
     "output_type": "stream",
     "text": [
      "['아', '이', '린']\n"
     ]
    }
   ],
   "source": [
    "print(a)\n",
    "\n",
    "# comma에 따라서 행동을 달리함\n",
    "# 네덜란드인 맘대로 만든거야....\n",
    "# 네덜란드 사람(귀도)이 아니라면 처음에는 그 방법이 명확하게 보이지 않을 수 있다."
   ]
  },
  {
   "cell_type": "code",
   "execution_count": 12,
   "metadata": {},
   "outputs": [
    {
     "ename": "ValueError",
     "evalue": "too many values to unpack (expected 2)",
     "output_type": "error",
     "traceback": [
      "\u001b[1;31m---------------------------------------------------------------------------\u001b[0m",
      "\u001b[1;31mValueError\u001b[0m                                Traceback (most recent call last)",
      "\u001b[1;32m<ipython-input-12-b6a8378354cc>\u001b[0m in \u001b[0;36m<module>\u001b[1;34m\u001b[0m\n\u001b[1;32m----> 1\u001b[1;33m \u001b[1;33m[\u001b[0m\u001b[0ma\u001b[0m\u001b[1;33m,\u001b[0m\u001b[0mb\u001b[0m\u001b[1;33m]\u001b[0m\u001b[1;33m,\u001b[0m \u001b[0mc\u001b[0m \u001b[1;33m=\u001b[0m \u001b[1;34m'아이린'\u001b[0m\u001b[1;33m\u001b[0m\u001b[1;33m\u001b[0m\u001b[0m\n\u001b[0m",
      "\u001b[1;31mValueError\u001b[0m: too many values to unpack (expected 2)"
     ]
    }
   ],
   "source": [
    "[a,b], c = '아이린'\n",
    "# 2개로 인식"
   ]
  },
  {
   "cell_type": "code",
   "execution_count": 13,
   "metadata": {},
   "outputs": [],
   "source": [
    "(a,b,c) = '아이린'\n",
    "# 맥락없이 됨... 암기해라"
   ]
  },
  {
   "cell_type": "code",
   "execution_count": 15,
   "metadata": {},
   "outputs": [
    {
     "ename": "SyntaxError",
     "evalue": "can't assign to literal (<ipython-input-15-b59029d6b8c3>, line 1)",
     "output_type": "error",
     "traceback": [
      "\u001b[1;36m  File \u001b[1;32m\"<ipython-input-15-b59029d6b8c3>\"\u001b[1;36m, line \u001b[1;32m1\u001b[0m\n\u001b[1;33m    {a,b,c} = '아이린'\u001b[0m\n\u001b[1;37m                   ^\u001b[0m\n\u001b[1;31mSyntaxError\u001b[0m\u001b[1;31m:\u001b[0m can't assign to literal\n"
     ]
    }
   ],
   "source": [
    "{a,b,c} = '아이린'\n",
    "# 맥락없이 안됨... 암기해라"
   ]
  },
  {
   "cell_type": "code",
   "execution_count": 17,
   "metadata": {},
   "outputs": [
    {
     "ename": "ValueError",
     "evalue": "not enough values to unpack (expected 2, got 1)",
     "output_type": "error",
     "traceback": [
      "\u001b[1;31m---------------------------------------------------------------------------\u001b[0m",
      "\u001b[1;31mValueError\u001b[0m                                Traceback (most recent call last)",
      "\u001b[1;32m<ipython-input-17-a9d8bf4e668c>\u001b[0m in \u001b[0;36m<module>\u001b[1;34m\u001b[0m\n\u001b[1;32m----> 1\u001b[1;33m \u001b[1;33m[\u001b[0m\u001b[0ma\u001b[0m\u001b[1;33m,\u001b[0m\u001b[0mb\u001b[0m\u001b[1;33m]\u001b[0m\u001b[1;33m,\u001b[0m\u001b[1;33m*\u001b[0m\u001b[1;33m[\u001b[0m\u001b[0mc\u001b[0m\u001b[1;33m]\u001b[0m \u001b[1;33m=\u001b[0m \u001b[1;34m'아이린쨩'\u001b[0m\u001b[1;33m\u001b[0m\u001b[1;33m\u001b[0m\u001b[0m\n\u001b[0m",
      "\u001b[1;31mValueError\u001b[0m: not enough values to unpack (expected 2, got 1)"
     ]
    }
   ],
   "source": [
    "[a,b],*[c] = '아이린쨩'"
   ]
  },
  {
   "cell_type": "code",
   "execution_count": 21,
   "metadata": {},
   "outputs": [
    {
     "name": "stdout",
     "output_type": "stream",
     "text": [
      "1\n",
      "2\n",
      "3\n",
      "5\n",
      "8\n",
      "13\n",
      "21\n",
      "34\n",
      "55\n",
      "89\n"
     ]
    }
   ],
   "source": [
    "a,b = 0, 1\n",
    "for i in range(10):\n",
    "    a, b = b, a+b\n",
    "    print(b)\n",
    "# 피보나치 수열 깔끔하게 푸는 방식!\n",
    "# b가 a가 됨\n",
    "# a+b가 b가 됨"
   ]
  },
  {
   "cell_type": "code",
   "execution_count": 24,
   "metadata": {},
   "outputs": [
    {
     "name": "stdout",
     "output_type": "stream",
     "text": [
      "['False', 'None', 'True', 'and', 'as', 'assert', 'async', 'await', 'break', 'class', 'continue', 'def', 'del', 'elif', 'else', 'except', 'finally', 'for', 'from', 'global', 'if', 'import', 'in', 'is', 'lambda', 'nonlocal', 'not', 'or', 'pass', 'raise', 'return', 'try', 'while', 'with', 'yield']\n",
      "35\n"
     ]
    }
   ],
   "source": [
    "import keyword\n",
    "print(keyword.kwlist)\n",
    "# keyword보는 방법\n",
    "print(len(keyword.kwlist))\n",
    "# len은 container안 원소 수를 구한다.\n",
    "# None은 False가 아님.\n",
    "# None은 if 안에서는 False 처럼 사용가능\n",
    "# keyword 수가 작아서 배우기 쉽다."
   ]
  },
  {
   "cell_type": "code",
   "execution_count": 25,
   "metadata": {},
   "outputs": [
    {
     "name": "stdout",
     "output_type": "stream",
     "text": [
      "True\n"
     ]
    }
   ],
   "source": [
    "a = 1000\n",
    "b = 1000\n",
    "print(a == b)\n",
    "# ==은 값만 같은지 확인 \n",
    "# memory 값까지 같은지 확인할 때 is 사용"
   ]
  },
  {
   "cell_type": "code",
   "execution_count": 26,
   "metadata": {},
   "outputs": [
    {
     "name": "stdout",
     "output_type": "stream",
     "text": [
      "3166043952976 3166043952048\n",
      "False\n"
     ]
    }
   ],
   "source": [
    "print(id(a), id(b))\n",
    "print(a is b)"
   ]
  }
 ],
 "metadata": {
  "kernelspec": {
   "display_name": "Python 3",
   "language": "python",
   "name": "python3"
  },
  "language_info": {
   "codemirror_mode": {
    "name": "ipython",
    "version": 3
   },
   "file_extension": ".py",
   "mimetype": "text/x-python",
   "name": "python",
   "nbconvert_exporter": "python",
   "pygments_lexer": "ipython3",
   "version": "3.7.1"
  }
 },
 "nbformat": 4,
 "nbformat_minor": 2
}
