{
 "cells": [
  {
   "cell_type": "markdown",
   "metadata": {},
   "source": [
    "iterable : 순회 가능한 객체"
   ]
  },
  {
   "cell_type": "code",
   "execution_count": 1,
   "metadata": {},
   "outputs": [],
   "source": [
    "a = [1, 2, 3]"
   ]
  },
  {
   "cell_type": "code",
   "execution_count": 2,
   "metadata": {},
   "outputs": [],
   "source": [
    "def x():\n",
    "    for i in a:\n",
    "        print(i)"
   ]
  },
  {
   "cell_type": "code",
   "execution_count": 3,
   "metadata": {},
   "outputs": [],
   "source": [
    "import dis "
   ]
  },
  {
   "cell_type": "code",
   "execution_count": 4,
   "metadata": {},
   "outputs": [
    {
     "name": "stdout",
     "output_type": "stream",
     "text": [
      "  2           0 SETUP_LOOP              20 (to 22)\n",
      "              2 LOAD_GLOBAL              0 (a)\n",
      "              4 GET_ITER\n",
      "        >>    6 FOR_ITER                12 (to 20)\n",
      "              8 STORE_FAST               0 (i)\n",
      "\n",
      "  3          10 LOAD_GLOBAL              1 (print)\n",
      "             12 LOAD_FAST                0 (i)\n",
      "             14 CALL_FUNCTION            1\n",
      "             16 POP_TOP\n",
      "             18 JUMP_ABSOLUTE            6\n",
      "        >>   20 POP_BLOCK\n",
      "        >>   22 LOAD_CONST               0 (None)\n",
      "             24 RETURN_VALUE\n"
     ]
    }
   ],
   "source": [
    "dis.dis(x)\n",
    "# 기계어 코드\n",
    "# 함수가 어떤 기계어로 변하는가?\n",
    "# iterator가 될 수 있는 객체를 iterable한다.\n",
    "# 4 GET_ITER : (for in a)에서 a를 iterator 객체로 변화시켜서 반환\n",
    "# next로 원소 하나씩 뽑아서 준다."
   ]
  },
  {
   "cell_type": "markdown",
   "metadata": {},
   "source": [
    "iterator가 될 수 있는 객체가 iterable하다고 한다."
   ]
  },
  {
   "cell_type": "code",
   "execution_count": 5,
   "metadata": {
    "collapsed": true
   },
   "outputs": [],
   "source": [
    "b = iter(a)"
   ]
  },
  {
   "cell_type": "code",
   "execution_count": 6,
   "metadata": {},
   "outputs": [
    {
     "name": "stdout",
     "output_type": "stream",
     "text": [
      "<list_iterator object at 0x000001D2A7F635C0>\n"
     ]
    }
   ],
   "source": [
    "print(b)"
   ]
  },
  {
   "cell_type": "code",
   "execution_count": 10,
   "metadata": {},
   "outputs": [
    {
     "ename": "StopIteration",
     "evalue": "",
     "output_type": "error",
     "traceback": [
      "\u001b[1;31m---------------------------------------------------------------------------\u001b[0m",
      "\u001b[1;31mStopIteration\u001b[0m                             Traceback (most recent call last)",
      "\u001b[1;32m<ipython-input-10-d5d2127b8fa7>\u001b[0m in \u001b[0;36m<module>\u001b[1;34m\u001b[0m\n\u001b[1;32m----> 1\u001b[1;33m \u001b[0mnext\u001b[0m\u001b[1;33m(\u001b[0m\u001b[0mb\u001b[0m\u001b[1;33m)\u001b[0m\u001b[1;33m\u001b[0m\u001b[1;33m\u001b[0m\u001b[0m\n\u001b[0m\u001b[0;32m      2\u001b[0m \u001b[1;31m# 한 번 실행할 때마다 원소를 하나씩 반환함\u001b[0m\u001b[1;33m\u001b[0m\u001b[1;33m\u001b[0m\u001b[1;33m\u001b[0m\u001b[0m\n",
      "\u001b[1;31mStopIteration\u001b[0m: "
     ]
    }
   ],
   "source": [
    "next(b)\n",
    "# next()를 한 번 실행할 때마다 원소를 하나씩 반환함\n",
    "# iterator는 next()만 기억하면 된다."
   ]
  },
  {
   "cell_type": "markdown",
   "metadata": {},
   "source": [
    "iterator는 LAZY함\n",
    "LAZY : 실행할 때 초기화 하거나 값을 반환\n",
    "1개만 원소를 저장해서 쓰므로 속도가 빠르고 효율적이다.\n",
    "실행할 때 원소를 메모리에 올림, 하나만 올려서 빠름\n",
    "호출할때 원소를 반환함(미리 안함)\n",
    "\n",
    "하스켈같은 언어에서는 지원 안함\n",
    "원소를 하나 뽑을때만 메모리 할당 == 메모리 효율적으로 사용\n",
    "\n",
    "실행할 때 delay == 모든 데이터를 메모리에 올림\n",
    "동작 시킬 때 delay == 필요할 때마다 데이터를 메모리를 올림 --> python 반응이 느림"
   ]
  },
  {
   "cell_type": "markdown",
   "metadata": {},
   "source": [
    "in 다음에 iterable을 넣으면, iterable이 iterator가 되어서 계속 원소 반환"
   ]
  },
  {
   "cell_type": "code",
   "execution_count": 11,
   "metadata": {},
   "outputs": [],
   "source": [
    "a = 'abc'\n",
    "b = iter(a)"
   ]
  },
  {
   "cell_type": "code",
   "execution_count": 15,
   "metadata": {},
   "outputs": [
    {
     "ename": "StopIteration",
     "evalue": "",
     "output_type": "error",
     "traceback": [
      "\u001b[1;31m---------------------------------------------------------------------------\u001b[0m",
      "\u001b[1;31mStopIteration\u001b[0m                             Traceback (most recent call last)",
      "\u001b[1;32m<ipython-input-15-adb3e17b0219>\u001b[0m in \u001b[0;36m<module>\u001b[1;34m\u001b[0m\n\u001b[1;32m----> 1\u001b[1;33m \u001b[0mnext\u001b[0m\u001b[1;33m(\u001b[0m\u001b[0mb\u001b[0m\u001b[1;33m)\u001b[0m\u001b[1;33m\u001b[0m\u001b[1;33m\u001b[0m\u001b[0m\n\u001b[0m",
      "\u001b[1;31mStopIteration\u001b[0m: "
     ]
    }
   ],
   "source": [
    "next(b)"
   ]
  },
  {
   "cell_type": "markdown",
   "metadata": {},
   "source": [
    "for는 지저분...\n",
    "\n",
    "for, while 안쓰고 반복하는 기법은 무엇이 있을까\n",
    "1. iterator\n",
    "2. comprehension (for가 있긴 한데, 사실상 iterator를 사용함)\n",
    "3. map / filter / reduce\n",
    "4. 재귀함수 (느려서 사용 잘 안함)"
   ]
  },
  {
   "cell_type": "code",
   "execution_count": 19,
   "metadata": {},
   "outputs": [
    {
     "name": "stdout",
     "output_type": "stream",
     "text": [
      "[0, 1, 2, 3, 4, 5, 6, 7, 8, 9]\n"
     ]
    }
   ],
   "source": [
    "temp = []\n",
    "for i in range(10):\n",
    "    temp.append(i)\n",
    "else:\n",
    "    print(temp)"
   ]
  },
  {
   "cell_type": "markdown",
   "metadata": {},
   "source": [
    "# comprehension = comps "
   ]
  },
  {
   "cell_type": "code",
   "execution_count": 20,
   "metadata": {},
   "outputs": [
    {
     "name": "stdout",
     "output_type": "stream",
     "text": [
      "[0, 1, 2, 3, 4, 5, 6, 7, 8, 9]\n"
     ]
    }
   ],
   "source": [
    "temp = [x for x in range(10)]\n",
    "print(temp)\n",
    "# container만드는 단축 기법!!! comprehension"
   ]
  },
  {
   "cell_type": "markdown",
   "metadata": {},
   "source": [
    "절차적 방식 : 객체지향\n",
    "vs\n",
    "선언적 방식 : 함수형 프로그래밍(모든 것을 함수로 만드는 방식) == 재사용성 업업\n",
    "수학적 함수 기반으로 함수 만들어서 프로그래밍 하는 방식\n",
    "수학적 함수처럼 정의역 모든 값이 들어가야하며, 하나의 x가 여러 대응되면 안됨!"
   ]
  },
  {
   "cell_type": "markdown",
   "metadata": {},
   "source": [
    "함수형 프로그래밍\n",
    "단점 : 구현하기 어렵다.\n",
    "형식적 증명 가능성 : 수학적 증명 가능함 === 디버깅 && 테스트 쉬움..!"
   ]
  },
  {
   "cell_type": "markdown",
   "metadata": {},
   "source": [
    "f o g (x) = f(g(x)) : 결합성 : 합성함수를 사용한다."
   ]
  },
  {
   "cell_type": "markdown",
   "metadata": {},
   "source": [
    "절차적 프로그래밍 방식\n",
    "a = input()\n",
    "a = int(a)\n",
    "\n",
    "vs\n",
    "\n",
    "함수형 프로그래밍 방식(LISP) : 수학적으로 완벽한 함수를 사용\n",
    "x = int(input())\n",
    "input()에는 항상 결과가 return 되니까 == 함수의 정의에 따라서...\n",
    "그 결과를 int()함수에 대입\n",
    "for while 잘 안씀 (하스켈에서는 아예 안씀)\n",
    "대신에 iterator를 사용한다.\n",
    "comprehension도 함수형 패러다임에서 옴\n",
    "\n",
    "mutable type이 없음"
   ]
  },
  {
   "cell_type": "markdown",
   "metadata": {},
   "source": [
    "함수형 프로그래밍 방식 장점\n",
    "코어별로 함수를 실행시킴 == 겁나 빠름"
   ]
  },
  {
   "cell_type": "markdown",
   "metadata": {},
   "source": [
    "# lisp (list programming)"
   ]
  },
  {
   "cell_type": "markdown",
   "metadata": {},
   "source": [
    "comprehension에서 모양만 for를 쓰지만,,, 사실은 iterator를 사용함\n",
    "함수형 패러다임 언어에서 for while안쓰고 한꺼번에 data를 생성하기 위해서 사용한 것\n",
    "하스켈에서는 데이터 만들 때 씀\n",
    "\n",
    "역사적으로 한꺼번에 여러개를 효율적으로 만들라고 함수형 패러다임에서 사용함\n",
    "\n",
    "== comprehension"
   ]
  },
  {
   "cell_type": "markdown",
   "metadata": {},
   "source": [
    "temp = [AAA for x in range(10)]\n",
    "조건식 \n",
    "and/or식\n",
    "함수식 을 AAA에 넣을 수 있다."
   ]
  },
  {
   "cell_type": "code",
   "execution_count": 21,
   "metadata": {},
   "outputs": [
    {
     "name": "stdout",
     "output_type": "stream",
     "text": [
      "[4, 5, 6, 7, 8, 9]\n"
     ]
    }
   ],
   "source": [
    "temp = [x for x in range(10) if x > 3]\n",
    "print(temp)"
   ]
  },
  {
   "cell_type": "code",
   "execution_count": 25,
   "metadata": {},
   "outputs": [
    {
     "name": "stdout",
     "output_type": "stream",
     "text": [
      "[0, 1, 2, 3, 4, 5, 6, 7, 8, 9]\n"
     ]
    }
   ],
   "source": [
    "temp = [x for x in range(10)]\n",
    "print(temp)"
   ]
  },
  {
   "cell_type": "code",
   "execution_count": null,
   "metadata": {},
   "outputs": [],
   "source": [
    "temp = {x:1 for x in range(10)}\n",
    "# dict도 가능하구나..!"
   ]
  },
  {
   "cell_type": "code",
   "execution_count": null,
   "metadata": {},
   "outputs": [],
   "source": [
    "temp = {x for x in range(10)}\n",
    "# set도 가능하구나!"
   ]
  },
  {
   "cell_type": "markdown",
   "metadata": {},
   "source": [
    "comprehension 종류 3가지\n",
    "list, set, dict == mutable\n",
    "보통 하던 방식보다 빠르고 간결하다.\n",
    "\n",
    "함수형 프로그래밍은 mutable한게 없음\n",
    "tuple은 immutable함\n",
    "immutable은 generator를 만듦어줌\n",
    "tuple은 generator를 만듦\n",
    "iterator랑 개념은 같지만 만드는 방식이 다르다.\n",
    "tuple형태의 comprehension == generator 식\n",
    "\n",
    "generator랑 iterator랑 뭔차이지??????????????????????????"
   ]
  },
  {
   "cell_type": "code",
   "execution_count": 27,
   "metadata": {},
   "outputs": [
    {
     "name": "stdout",
     "output_type": "stream",
     "text": [
      "<generator object <genexpr> at 0x000001D2A7FF70C0>\n"
     ]
    }
   ],
   "source": [
    "temp = (x for x in range(10))  \n",
    "# temp 자체를 generator식 이라고 한다. == 식이다 == 할당 가능하다.\n",
    "print(temp)\n",
    "# tuple은 예외로 generator가 나오는구나...!"
   ]
  },
  {
   "cell_type": "code",
   "execution_count": 28,
   "metadata": {},
   "outputs": [],
   "source": [
    "t = temp"
   ]
  },
  {
   "cell_type": "code",
   "execution_count": 29,
   "metadata": {},
   "outputs": [
    {
     "data": {
      "text/plain": [
       "0"
      ]
     },
     "execution_count": 29,
     "metadata": {},
     "output_type": "execute_result"
    }
   ],
   "source": [
    "next(t)"
   ]
  },
  {
   "cell_type": "markdown",
   "metadata": {},
   "source": [
    "조건식\n",
    "반복식\n",
    "함수식"
   ]
  },
  {
   "cell_type": "code",
   "execution_count": 37,
   "metadata": {},
   "outputs": [
    {
     "name": "stdout",
     "output_type": "stream",
     "text": [
      "302 ns ± 1.27 ns per loop (mean ± std. dev. of 7 runs, 1000000 loops each)\n"
     ]
    }
   ],
   "source": [
    "%%timeit\n",
    "sum(range(1, 11))\n",
    "# range()만 써서 훨씬 빠름"
   ]
  },
  {
   "cell_type": "code",
   "execution_count": 36,
   "metadata": {},
   "outputs": [
    {
     "name": "stdout",
     "output_type": "stream",
     "text": [
      "601 ns ± 3.29 ns per loop (mean ± std. dev. of 7 runs, 1000000 loops each)\n"
     ]
    }
   ],
   "source": [
    "%%timeit\n",
    "sum([x for x in range(1, 11)])\n",
    "# list comprehension은 아주 많이 쓰는 기능이라 내부적으로 최적화 되어있다.\n",
    "# 반복식, generator식 보다 빠름"
   ]
  },
  {
   "cell_type": "code",
   "execution_count": 34,
   "metadata": {},
   "outputs": [
    {
     "name": "stdout",
     "output_type": "stream",
     "text": [
      "729 ns ± 2.74 ns per loop (mean ± std. dev. of 7 runs, 1000000 loops each)\n"
     ]
    }
   ],
   "source": [
    "%%timeit\n",
    "sum(x for x in range(1, 11))\n",
    "# x for x in range(1, 11) : 는 반복식이라 대입이 가능하다."
   ]
  },
  {
   "cell_type": "code",
   "execution_count": 35,
   "metadata": {},
   "outputs": [
    {
     "name": "stdout",
     "output_type": "stream",
     "text": [
      "726 ns ± 3.77 ns per loop (mean ± std. dev. of 7 runs, 1000000 loops each)\n"
     ]
    }
   ],
   "source": [
    "%%timeit\n",
    "sum((x for x in range(1, 11)))\n",
    "# 위와 같은 코드\n",
    "# (x for x in range(1, 11)) : generator식"
   ]
  },
  {
   "cell_type": "markdown",
   "metadata": {},
   "source": [
    "파이썬 파일은 iterator형태로 사용\n",
    "\n",
    "iterator 만드는 방식\n",
    "iterator는 iter()함수로 만듦\n",
    "\n",
    "generator 만드는 방식 2가지\n",
    "1. generator 식(tuple을 comprehension 형태로 만들면 됨 )\n",
    "2. 함수에 yield\n",
    "\n",
    "iterator랑 generator같음 \n",
    "만드는 방식이 달라서 이름을 달리함"
   ]
  },
  {
   "cell_type": "code",
   "execution_count": 53,
   "metadata": {},
   "outputs": [],
   "source": [
    "def a():\n",
    "    yield from [1, 2]"
   ]
  },
  {
   "cell_type": "markdown",
   "metadata": {},
   "source": [
    "위의 코드는\n",
    "def a():\n",
    "    yield 1\n",
    "    yield 2 \n",
    "랑 같은 코드이다."
   ]
  },
  {
   "cell_type": "code",
   "execution_count": 48,
   "metadata": {},
   "outputs": [],
   "source": [
    "t = a()"
   ]
  },
  {
   "cell_type": "code",
   "execution_count": 51,
   "metadata": {},
   "outputs": [
    {
     "ename": "StopIteration",
     "evalue": "",
     "output_type": "error",
     "traceback": [
      "\u001b[1;31m---------------------------------------------------------------------------\u001b[0m",
      "\u001b[1;31mStopIteration\u001b[0m                             Traceback (most recent call last)",
      "\u001b[1;32m<ipython-input-51-f843efe259be>\u001b[0m in \u001b[0;36m<module>\u001b[1;34m\u001b[0m\n\u001b[1;32m----> 1\u001b[1;33m \u001b[0mnext\u001b[0m\u001b[1;33m(\u001b[0m\u001b[0mt\u001b[0m\u001b[1;33m)\u001b[0m\u001b[1;33m\u001b[0m\u001b[1;33m\u001b[0m\u001b[0m\n\u001b[0m",
      "\u001b[1;31mStopIteration\u001b[0m: "
     ]
    }
   ],
   "source": [
    "next(t)"
   ]
  },
  {
   "cell_type": "code",
   "execution_count": 54,
   "metadata": {},
   "outputs": [],
   "source": [
    "def b():\n",
    "    while True:\n",
    "        yield from [1, 2]\n",
    "# 자동화 할 때 도움 많이 됨\n",
    "# stop iteration error 안남"
   ]
  },
  {
   "cell_type": "code",
   "execution_count": 55,
   "metadata": {},
   "outputs": [],
   "source": [
    "z = b()"
   ]
  },
  {
   "cell_type": "code",
   "execution_count": 80,
   "metadata": {},
   "outputs": [
    {
     "data": {
      "text/plain": [
       "1"
      ]
     },
     "execution_count": 80,
     "metadata": {},
     "output_type": "execute_result"
    }
   ],
   "source": [
    "next(z)"
   ]
  },
  {
   "cell_type": "code",
   "execution_count": 83,
   "metadata": {},
   "outputs": [],
   "source": [
    "from functools import reduce\n",
    "# pyhthon2에서는 기본 함수, python3에서는 어렵다고 기본함수에서 뺌"
   ]
  },
  {
   "cell_type": "code",
   "execution_count": 84,
   "metadata": {},
   "outputs": [
    {
     "name": "stdout",
     "output_type": "stream",
     "text": [
      "645 ns ± 3.25 ns per loop (mean ± std. dev. of 7 runs, 1000000 loops each)\n"
     ]
    }
   ],
   "source": [
    "%%timeit\n",
    "reduce(lambda x,  : x + y, [1,2,3,4,5])\n",
    "# == 원소를 줄이다 라는 의미\n",
    "# x = 1, y = 2, x + y = 3 결과를 다시\n",
    "# x = 3, y = 3, x + y = 6 (x는 이전에 결과값)\n",
    "# x = 6, y = 4, x + y = 10 (x는 이전에 결과값)"
   ]
  },
  {
   "cell_type": "code",
   "execution_count": 88,
   "metadata": {},
   "outputs": [],
   "source": [
    "def fi(n):\n",
    "    if n == 0:\n",
    "        return 0\n",
    "    elif n == 1:\n",
    "        return 1\n",
    "    else:\n",
    "        return fi(n - 1) + fi(n - 2)\n",
    "    \n",
    "# 식으로 되어있어서 수학적으로 증명가능...!\n",
    "# 단점 : 속도 느려 \n",
    "# 극복하기 위해서 꼬리 재귀 기법을 우리가 사용해줘야한다???????????????\n",
    "# 꼬리 재귀 기법을 python에서 제공하지 않는다."
   ]
  },
  {
   "cell_type": "code",
   "execution_count": 87,
   "metadata": {},
   "outputs": [
    {
     "data": {
      "text/plain": [
       "13"
      ]
     },
     "execution_count": 87,
     "metadata": {},
     "output_type": "execute_result"
    }
   ],
   "source": [
    "def fi(n):\n",
    "    if n == 0:\n",
    "        return 0\n",
    "    elif n == 1:\n",
    "        return 1\n",
    "    else:\n",
    "        return fi(n - 1) + fi(n - 2)"
   ]
  }
 ],
 "metadata": {
  "kernelspec": {
   "display_name": "Python 3",
   "language": "python",
   "name": "python3"
  },
  "language_info": {
   "codemirror_mode": {
    "name": "ipython",
    "version": 3
   },
   "file_extension": ".py",
   "mimetype": "text/x-python",
   "name": "python",
   "nbconvert_exporter": "python",
   "pygments_lexer": "ipython3",
   "version": "3.7.1"
  }
 },
 "nbformat": 4,
 "nbformat_minor": 2
}
